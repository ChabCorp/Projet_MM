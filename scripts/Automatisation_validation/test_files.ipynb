{
 "cells": [
  {
   "cell_type": "code",
   "execution_count": 2,
   "metadata": {},
   "outputs": [],
   "source": [
    "# ! conda install selenium -y"
   ]
  },
  {
   "cell_type": "code",
   "execution_count": 3,
   "metadata": {},
   "outputs": [],
   "source": [
    "import os\n",
    "import time\n",
    "from selenium import webdriver\n",
    "from selenium.webdriver.common.keys import Keys"
   ]
  },
  {
   "cell_type": "code",
   "execution_count": 4,
   "metadata": {},
   "outputs": [],
   "source": [
    "# driver = webdriver.Chrome(executable_path=\"chromedriver.exe\")\n",
    "# driver.implicitly_wait(0.5)\n",
    "# driver.maximize_window()"
   ]
  },
  {
   "cell_type": "code",
   "execution_count": 9,
   "metadata": {},
   "outputs": [
    {
     "name": "stderr",
     "output_type": "stream",
     "text": [
      "100%|██████████| 7/7 [00:00<00:00, 837.38it/s]\n"
     ]
    }
   ],
   "source": [
    "res = {}\n",
    "from selenium.webdriver.support.ui import WebDriverWait\n",
    "from selenium.webdriver.support import expected_conditions as EC\n",
    "from selenium.webdriver.common.by import By\n",
    "from tqdm import tqdm\n",
    "from joblib import Parallel, delayed\n",
    "from selenium.webdriver.chrome.options import Options\n",
    "\n",
    "# for file in tqdm(os.listdir(\"res2\")) : \n",
    "def analyse(file) : \n",
    "    if os.path.isfile('res2/'+file) : \n",
    "        driver = webdriver.Chrome(executable_path=\"chromedriver.exe\")\n",
    "        driver.implicitly_wait(0.5)\n",
    "        # options = Options()\n",
    "\n",
    "        # driver.maximize_window()\n",
    "        driver.get(\"https://saves.mbi.ucla.edu/\")\n",
    "        s = driver.find_element_by_id(\"pdbfile\")\n",
    "        s.send_keys(os.getcwd() + \"/res2/\" + file)\n",
    "        s_run = driver.find_element_by_id(\"startjob\")\n",
    "        s_run.click()\n",
    "        errat = driver.find_element_by_id(\"errat\")\n",
    "        procheck = driver.find_element_by_id(\"procheck\")\n",
    "        errat.click()\n",
    "        procheck.click()\n",
    "        wait = webdriver.support.ui.WebDriverWait(driver, 120)\n",
    "        errat_t = wait.until(EC.visibility_of_element_located((By.XPATH, \"/html/body/table/tbody/tr[1]/td[1]/div[1]/div/center/center/h1\"))).get_attribute(\"innerHTML\")\n",
    "        # errat_r = driver.find_element_by_xpath(\"/html/body/table/tbody/tr[1]/td[1]/div[1]/div/center/center/h1\")\n",
    "        # errat_t = errat_r.get_attribute(\"innerHTML\")\n",
    "        wait = webdriver.support.ui.WebDriverWait(driver, 60*10)\n",
    "        try : \n",
    "            pro_r = wait.until(EC.visibility_of_element_located((By.XPATH, \"/html/body/table/tbody/tr[2]/td[2]/div[1]/div/center/ul\"))).text\n",
    "            # pro_r = driver.find_element_by_xpath(\"/html/body/table/tbody/tr[2]/td[2]/div[1]/div/center/ul\")\n",
    "            # pro = pro_r.get_attribute(\"innerHTML\")\n",
    "            # error = pro_r.text\n",
    "            error = pro_r.split(\"\\n\")\n",
    "            error.append(str(errat_t))\n",
    "            res[file] = error\n",
    "            time.sleep(5)\n",
    "            driver.close()\n",
    "            return error\n",
    "        except :\n",
    "            driver.close()\n",
    "            print(f\"error in {file}\")\n",
    "            return \"error\"\n",
    "err = Parallel(n_jobs=-1)(\n",
    "    delayed(analyse)(file) for file in tqdm(os.listdir(\"res2\"))\n",
    "    )"
   ]
  },
  {
   "cell_type": "code",
   "execution_count": 10,
   "metadata": {},
   "outputs": [
    {
     "data": {
      "text/plain": [
       "[['Errors: 4', 'Warning: 3', 'Pass: 2', '56.7961'],\n",
       " ['Errors: 5', 'Warning: 3', 'Pass: 1', '46.8293'],\n",
       " ['Errors: 5', 'Warning: 3', 'Pass: 1', '44.5338'],\n",
       " ['Errors: 4', 'Warning: 4', 'Pass: 1', '47.8261'],\n",
       " ['Errors: 5', 'Warning: 1', 'Pass: 2', '54.7812'],\n",
       " ['Errors: 4', 'Warning: 4', 'Pass: 1', '50'],\n",
       " None]"
      ]
     },
     "execution_count": 10,
     "metadata": {},
     "output_type": "execute_result"
    }
   ],
   "source": [
    "err"
   ]
  },
  {
   "cell_type": "code",
   "execution_count": 15,
   "metadata": {},
   "outputs": [
    {
     "data": {
      "text/html": [
       "<div>\n",
       "<style scoped>\n",
       "    .dataframe tbody tr th:only-of-type {\n",
       "        vertical-align: middle;\n",
       "    }\n",
       "\n",
       "    .dataframe tbody tr th {\n",
       "        vertical-align: top;\n",
       "    }\n",
       "\n",
       "    .dataframe thead th {\n",
       "        text-align: right;\n",
       "    }\n",
       "</style>\n",
       "<table border=\"1\" class=\"dataframe\">\n",
       "  <thead>\n",
       "    <tr style=\"text-align: right;\">\n",
       "      <th></th>\n",
       "      <th>0</th>\n",
       "    </tr>\n",
       "  </thead>\n",
       "  <tbody>\n",
       "    <tr>\n",
       "      <th>0</th>\n",
       "      <td>Errors: 4</td>\n",
       "    </tr>\n",
       "    <tr>\n",
       "      <th>1</th>\n",
       "      <td>Warning: 3</td>\n",
       "    </tr>\n",
       "    <tr>\n",
       "      <th>2</th>\n",
       "      <td>Pass: 2</td>\n",
       "    </tr>\n",
       "    <tr>\n",
       "      <th>3</th>\n",
       "      <td>56.7961</td>\n",
       "    </tr>\n",
       "  </tbody>\n",
       "</table>\n",
       "</div>"
      ],
      "text/plain": [
       "            0\n",
       "0   Errors: 4\n",
       "1  Warning: 3\n",
       "2     Pass: 2\n",
       "3     56.7961"
      ]
     },
     "execution_count": 15,
     "metadata": {},
     "output_type": "execute_result"
    }
   ],
   "source": [
    "import pandas as pd \n",
    "df = pd.DataFrame(err[0])\n",
    "df"
   ]
  },
  {
   "cell_type": "code",
   "execution_count": 16,
   "metadata": {},
   "outputs": [
    {
     "name": "stderr",
     "output_type": "stream",
     "text": [
      "100%|██████████| 7/7 [06:05<00:00, 52.23s/it]\n"
     ]
    },
    {
     "data": {
      "text/plain": [
       "{'4r7l_mod.BL00010030.pdb': ['Errors: 4', 'Warning: 3', 'Pass: 2', '56.7961'],\n",
       " '4r7l_mod.BL00030019.pdb': ['Errors: 5', 'Warning: 3', 'Pass: 1', '46.8293'],\n",
       " '4r7l_mod.BL00040014.pdb': ['Errors: 5', 'Warning: 3', 'Pass: 1', '44.5338'],\n",
       " '4r7l_mod.BL00060010.pdb': ['Errors: 4', 'Warning: 4', 'Pass: 1', '47.8261'],\n",
       " '4r7l_mod.BL00080011.pdb': ['Errors: 5', 'Warning: 1', 'Pass: 2', '54.7812'],\n",
       " '4r7l_mod.BL00090017.pdb': ['Errors: 4', 'Warning: 4', 'Pass: 1', '50']}"
      ]
     },
     "execution_count": 16,
     "metadata": {},
     "output_type": "execute_result"
    }
   ],
   "source": [
    "res={}\n",
    "for file in tqdm(os.listdir(\"res2\")) :\n",
    "    if os.path.isfile('res2/'+file) : \n",
    "        driver = webdriver.Chrome(executable_path=\"chromedriver.exe\")\n",
    "        driver.implicitly_wait(0.5)\n",
    "        # options = Options()\n",
    "\n",
    "        # driver.maximize_window()\n",
    "        driver.get(\"https://saves.mbi.ucla.edu/\")\n",
    "        s = driver.find_element_by_id(\"pdbfile\")\n",
    "        s.send_keys(os.getcwd() + \"/res2/\" + file)\n",
    "        s_run = driver.find_element_by_id(\"startjob\")\n",
    "        s_run.click()\n",
    "        errat = driver.find_element_by_id(\"errat\")\n",
    "        procheck = driver.find_element_by_id(\"procheck\")\n",
    "        errat.click()\n",
    "        procheck.click()\n",
    "        wait = webdriver.support.ui.WebDriverWait(driver, 120)\n",
    "        errat_t = wait.until(EC.visibility_of_element_located((By.XPATH, \"/html/body/table/tbody/tr[1]/td[1]/div[1]/div/center/center/h1\"))).get_attribute(\"innerHTML\")\n",
    "        # errat_r = driver.find_element_by_xpath(\"/html/body/table/tbody/tr[1]/td[1]/div[1]/div/center/center/h1\")\n",
    "        # errat_t = errat_r.get_attribute(\"innerHTML\")\n",
    "        wait = webdriver.support.ui.WebDriverWait(driver, 60*10)\n",
    "        try : \n",
    "            pro_r = wait.until(EC.visibility_of_element_located((By.XPATH, \"/html/body/table/tbody/tr[2]/td[2]/div[1]/div/center/ul\"))).text\n",
    "            # pro_r = driver.find_element_by_xpath(\"/html/body/table/tbody/tr[2]/td[2]/div[1]/div/center/ul\")\n",
    "            # pro = pro_r.get_attribute(\"innerHTML\")\n",
    "            # error = pro_r.text\n",
    "            error = pro_r.split(\"\\n\")\n",
    "            error.append(str(errat_t))\n",
    "            res[file] = error\n",
    "            time.sleep(10)\n",
    "            driver.close()\n",
    "        except :\n",
    "            driver.close()\n",
    "            time.sleep(10)\n",
    "            print(f\"error in {file}\")\n",
    "res"
   ]
  },
  {
   "cell_type": "code",
   "execution_count": 24,
   "metadata": {},
   "outputs": [
    {
     "data": {
      "text/plain": [
       "{'4r7l_mod.BL00010030.pdb': ['Errors: 4', 'Warning: 3', 'Pass: 2', 56.7961],\n",
       " '4r7l_mod.BL00030019.pdb': ['Errors: 5', 'Warning: 3', 'Pass: 1', 46.8293],\n",
       " '4r7l_mod.BL00040014.pdb': ['Errors: 5', 'Warning: 3', 'Pass: 1', 44.5338],\n",
       " '4r7l_mod.BL00060010.pdb': ['Errors: 4', 'Warning: 4', 'Pass: 1', 47.8261],\n",
       " '4r7l_mod.BL00080011.pdb': ['Errors: 5', 'Warning: 1', 'Pass: 2', 54.7812],\n",
       " '4r7l_mod.BL00090017.pdb': ['Errors: 4', 'Warning: 4', 'Pass: 1', 50.0]}"
      ]
     },
     "execution_count": 24,
     "metadata": {},
     "output_type": "execute_result"
    }
   ],
   "source": [
    "res"
   ]
  },
  {
   "cell_type": "code",
   "execution_count": 35,
   "metadata": {},
   "outputs": [
    {
     "data": {
      "text/html": [
       "<div>\n",
       "<style scoped>\n",
       "    .dataframe tbody tr th:only-of-type {\n",
       "        vertical-align: middle;\n",
       "    }\n",
       "\n",
       "    .dataframe tbody tr th {\n",
       "        vertical-align: top;\n",
       "    }\n",
       "\n",
       "    .dataframe thead th {\n",
       "        text-align: right;\n",
       "    }\n",
       "</style>\n",
       "<table border=\"1\" class=\"dataframe\">\n",
       "  <thead>\n",
       "    <tr style=\"text-align: right;\">\n",
       "      <th></th>\n",
       "      <th>Errors</th>\n",
       "      <th>Warnings</th>\n",
       "      <th>Remarks</th>\n",
       "      <th>Errat score</th>\n",
       "    </tr>\n",
       "  </thead>\n",
       "  <tbody>\n",
       "    <tr>\n",
       "      <th>4r7l_mod.BL00010030.pdb</th>\n",
       "      <td>4</td>\n",
       "      <td>3</td>\n",
       "      <td>2</td>\n",
       "      <td>56.7961</td>\n",
       "    </tr>\n",
       "    <tr>\n",
       "      <th>4r7l_mod.BL00030019.pdb</th>\n",
       "      <td>5</td>\n",
       "      <td>3</td>\n",
       "      <td>1</td>\n",
       "      <td>46.8293</td>\n",
       "    </tr>\n",
       "    <tr>\n",
       "      <th>4r7l_mod.BL00040014.pdb</th>\n",
       "      <td>5</td>\n",
       "      <td>3</td>\n",
       "      <td>1</td>\n",
       "      <td>44.5338</td>\n",
       "    </tr>\n",
       "    <tr>\n",
       "      <th>4r7l_mod.BL00060010.pdb</th>\n",
       "      <td>4</td>\n",
       "      <td>4</td>\n",
       "      <td>1</td>\n",
       "      <td>47.8261</td>\n",
       "    </tr>\n",
       "    <tr>\n",
       "      <th>4r7l_mod.BL00080011.pdb</th>\n",
       "      <td>5</td>\n",
       "      <td>1</td>\n",
       "      <td>2</td>\n",
       "      <td>54.7812</td>\n",
       "    </tr>\n",
       "    <tr>\n",
       "      <th>4r7l_mod.BL00090017.pdb</th>\n",
       "      <td>4</td>\n",
       "      <td>4</td>\n",
       "      <td>1</td>\n",
       "      <td>50.0000</td>\n",
       "    </tr>\n",
       "  </tbody>\n",
       "</table>\n",
       "</div>"
      ],
      "text/plain": [
       "                         Errors  Warnings  Remarks  Errat score\n",
       "4r7l_mod.BL00010030.pdb       4         3        2      56.7961\n",
       "4r7l_mod.BL00030019.pdb       5         3        1      46.8293\n",
       "4r7l_mod.BL00040014.pdb       5         3        1      44.5338\n",
       "4r7l_mod.BL00060010.pdb       4         4        1      47.8261\n",
       "4r7l_mod.BL00080011.pdb       5         1        2      54.7812\n",
       "4r7l_mod.BL00090017.pdb       4         4        1      50.0000"
      ]
     },
     "execution_count": 35,
     "metadata": {},
     "output_type": "execute_result"
    }
   ],
   "source": [
    "# for i in res.keys(): \n",
    "#     for index,value in enumerate(res[i]) : \n",
    "#         if value == res[i][-1] : \n",
    "#             res[i][-1] = float(value)\n",
    "#         else :\n",
    "#             res[i][index] = int(res[i][index][-1])\n",
    "        \n",
    "df = pd.DataFrame.from_dict(res, orient='index', columns=[\"Errors\", \"Warnings\", \"Remarks\", \"Errat score\"])\n",
    "df\n",
    "# def maximum_value_in_column(column):    \n",
    "\n",
    "#     highlight = 'background-color: palegreen;'\n",
    "#     default = ''\n",
    "\n",
    "#     maximum_in_column = column.max()\n",
    "\n",
    "#     # must return one string per cell in this column\n",
    "#     return [highlight if v == maximum_in_column else default for v in column]\n",
    "\n",
    "# df.style.apply(maximum_value_in_column, axis=0)"
   ]
  },
  {
   "cell_type": "code",
   "execution_count": 7,
   "metadata": {},
   "outputs": [
    {
     "data": {
      "text/plain": [
       "{}"
      ]
     },
     "execution_count": 7,
     "metadata": {},
     "output_type": "execute_result"
    }
   ],
   "source": [
    "res"
   ]
  },
  {
   "cell_type": "code",
   "execution_count": 47,
   "metadata": {},
   "outputs": [
    {
     "data": {
      "text/plain": [
       "{'4r7l_mod.BL00010010.pdb': None}"
      ]
     },
     "execution_count": 47,
     "metadata": {},
     "output_type": "execute_result"
    }
   ],
   "source": [
    "res[file] = [errat_t].extend(error)\n",
    "res"
   ]
  },
  {
   "cell_type": "code",
   "execution_count": 7,
   "metadata": {},
   "outputs": [],
   "source": [
    "driver.get(\"https://saves.mbi.ucla.edu/\")\n",
    "s = driver.find_element_by_id(\"pdbfile\")"
   ]
  },
  {
   "cell_type": "code",
   "execution_count": 11,
   "metadata": {},
   "outputs": [],
   "source": [
    "s.send_keys(os.getcwd() + \"/res2/4r7l_mod.BL00010010.pdb\")"
   ]
  },
  {
   "cell_type": "code",
   "execution_count": 12,
   "metadata": {},
   "outputs": [],
   "source": [
    "s_run = driver.find_element_by_id(\"startjob\")\n",
    "s_run.click()"
   ]
  },
  {
   "cell_type": "code",
   "execution_count": 13,
   "metadata": {},
   "outputs": [],
   "source": [
    "errat = driver.find_element_by_id(\"errat\")\n",
    "procheck = driver.find_element_by_id(\"procheck\")\n",
    "errat.click()\n",
    "procheck.click()"
   ]
  },
  {
   "cell_type": "code",
   "execution_count": 14,
   "metadata": {},
   "outputs": [
    {
     "data": {
      "text/plain": [
       "'43.4783'"
      ]
     },
     "execution_count": 14,
     "metadata": {},
     "output_type": "execute_result"
    }
   ],
   "source": [
    "errat_r = driver.find_element_by_xpath(\"/html/body/table/tbody/tr[1]/td[1]/div[1]/div/center/center/h1\")\n",
    "errat_r.get_attribute(\"innerHTML\")"
   ]
  },
  {
   "cell_type": "code",
   "execution_count": 28,
   "metadata": {},
   "outputs": [
    {
     "data": {
      "text/plain": [
       "'Errors: 4\\nWarning: 4\\nPass: 1'"
      ]
     },
     "execution_count": 28,
     "metadata": {},
     "output_type": "execute_result"
    }
   ],
   "source": [
    "pro_r = driver.find_element_by_xpath(\"/html/body/table/tbody/tr[2]/td[2]/div[1]/div/center/ul\")\n",
    "pro = pro_r.get_attribute(\"innerHTML\")\n",
    "pro_r.text"
   ]
  },
  {
   "cell_type": "code",
   "execution_count": 29,
   "metadata": {},
   "outputs": [
    {
     "data": {
      "text/plain": [
       "['Errors: 4', 'Warning: 4', 'Pass: 1']"
      ]
     },
     "execution_count": 29,
     "metadata": {},
     "output_type": "execute_result"
    }
   ],
   "source": [
    "import re \n",
    "import pandas as pd\n",
    "\n",
    "error = pro_r.text\n",
    "error = error.split(\"\\n\")\n",
    "res = []\n",
    "res.append([errat, error])"
   ]
  }
 ],
 "metadata": {
  "kernelspec": {
   "display_name": "base",
   "language": "python",
   "name": "python3"
  },
  "language_info": {
   "codemirror_mode": {
    "name": "ipython",
    "version": 3
   },
   "file_extension": ".py",
   "mimetype": "text/x-python",
   "name": "python",
   "nbconvert_exporter": "python",
   "pygments_lexer": "ipython3",
   "version": "3.9.15"
  },
  "orig_nbformat": 4,
  "vscode": {
   "interpreter": {
    "hash": "190fe4768cc27e72cd56dbe6669787edcbc6e6c4095e4e38c0526b527a8263a0"
   }
  }
 },
 "nbformat": 4,
 "nbformat_minor": 2
}
